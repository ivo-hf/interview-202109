{
 "cells": [
  {
   "cell_type": "markdown",
   "source": [
    "# 1. 数据描述\n",
    "数据来自A股白酒板块20210104~20210825，每只股票每天产生一个hdf文件，读取示例如下"
   ],
   "metadata": {}
  },
  {
   "cell_type": "code",
   "execution_count": 3,
   "source": [
    "import h5py\r\n",
    "import numpy as np\r\n",
    "from datetime import datetime\r\n",
    "\r\n",
    "fv = np.vectorize(lambda x: np.datetime64(datetime.fromtimestamp(x)), otypes=[\"datetime64\"])\r\n",
    "file = \"$DATA_FOLDER/000568.SZ_20210104.hdf\"\r\n",
    "with h5py.File(file, 'r') as f:\r\n",
    "    X = f['X'][()]\r\n",
    "    Y = f['Y'][()]\r\n",
    "    T = f['T'][()]\r\n",
    "    T = fv((T - 621356256000000000) / 1e7)"
   ],
   "outputs": [],
   "metadata": {}
  },
  {
   "cell_type": "markdown",
   "source": [
    "其中X为因子，共21个；Y为预测目标，(未来30s的平均价-当前平均价)/当前平均价 * 1e3，平均价定义为订单簿orderbook买一卖一价的均值；T为对应的时间戳，大多数情况是每3s产生一个样本"
   ],
   "metadata": {}
  },
  {
   "cell_type": "markdown",
   "source": [
    "# 2.任务：\r\n",
    "**构造回归模型，基于X预测Y**\r\n",
    "1. 可自行选择训练集和验证集，但<span style=\"color:red\">测试集</span>必须包括20210802~20210825的<span style=\"color:red\">所有数据</span>：要求生成每只股票每天的预测csv文件，三列分别为时间戳（T）、真值（Y）和模型产生的预测值\r\n",
    "2. 针对模型训练和预测的结果，给出恰当的统计量（例如R2）或图形（例如9:30~15:00每5分钟的平均R2）进行评价\r\n",
    "3. 代码需考虑数据读取的<span style=\"color:red\">效率</span>，以及训练的<span style=\"color:red\">鲁棒性</span>\r\n",
    "4. 从结果中，你发现了哪些规律？"
   ],
   "metadata": {}
  }
 ],
 "metadata": {
  "kernelspec": {
   "display_name": "Python 3",
   "language": "python",
   "name": "python3"
  },
  "language_info": {
   "codemirror_mode": {
    "name": "ipython",
    "version": 3
   },
   "file_extension": ".py",
   "mimetype": "text/x-python",
   "name": "python",
   "nbconvert_exporter": "python",
   "pygments_lexer": "ipython3",
   "version": "3.7.10"
  }
 },
 "nbformat": 4,
 "nbformat_minor": 5
}
